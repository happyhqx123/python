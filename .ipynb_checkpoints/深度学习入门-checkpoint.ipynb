{
 "cells": [
  {
   "cell_type": "code",
   "execution_count": 7,
   "metadata": {},
   "outputs": [
    {
     "name": "stdout",
     "output_type": "stream",
     "text": [
      "0\n",
      "[ 6. 11. 11. 17.] [-4. -7. -5. -7.] [ 5. 18. 24. 60.] [0.2        0.22222222 0.375      0.41666667]\n"
     ]
    },
    {
     "ename": "ValueError",
     "evalue": "only 2 non-keyword arguments accepted",
     "output_type": "error",
     "traceback": [
      "\u001b[0;31m---------------------------------------------------------------------------\u001b[0m",
      "\u001b[0;31mValueError\u001b[0m                                Traceback (most recent call last)",
      "\u001b[0;32m<ipython-input-7-f144b03d6646>\u001b[0m in \u001b[0;36m<module>\u001b[0;34m\u001b[0m\n\u001b[1;32m     45\u001b[0m \u001b[0;34m\u001b[0m\u001b[0m\n\u001b[1;32m     46\u001b[0m \u001b[0ma\u001b[0m\u001b[0;34m=\u001b[0m\u001b[0mnp0\u001b[0m\u001b[0;34m(\u001b[0m\u001b[0;34m)\u001b[0m\u001b[0;34m\u001b[0m\u001b[0;34m\u001b[0m\u001b[0m\n\u001b[0;32m---> 47\u001b[0;31m \u001b[0mb\u001b[0m\u001b[0;34m=\u001b[0m\u001b[0mnp1\u001b[0m\u001b[0;34m(\u001b[0m\u001b[0;34m)\u001b[0m\u001b[0;34m\u001b[0m\u001b[0;34m\u001b[0m\u001b[0m\n\u001b[0m\u001b[1;32m     48\u001b[0m \u001b[0mc\u001b[0m\u001b[0;34m=\u001b[0m\u001b[0mnp2\u001b[0m\u001b[0;34m(\u001b[0m\u001b[0;34m)\u001b[0m\u001b[0;34m\u001b[0m\u001b[0;34m\u001b[0m\u001b[0m\n",
      "\u001b[0;32m<ipython-input-7-f144b03d6646>\u001b[0m in \u001b[0;36mnp1\u001b[0;34m()\u001b[0m\n\u001b[1;32m      9\u001b[0m \u001b[0;34m\u001b[0m\u001b[0m\n\u001b[1;32m     10\u001b[0m \u001b[0;32mdef\u001b[0m \u001b[0mnp1\u001b[0m\u001b[0;34m(\u001b[0m\u001b[0;34m)\u001b[0m\u001b[0;34m:\u001b[0m          \u001b[0;31m#numpy生成多维数组\u001b[0m\u001b[0;34m\u001b[0m\u001b[0;34m\u001b[0m\u001b[0m\n\u001b[0;32m---> 11\u001b[0;31m     \u001b[0mx\u001b[0m\u001b[0;34m=\u001b[0m\u001b[0mnp\u001b[0m\u001b[0;34m.\u001b[0m\u001b[0marray\u001b[0m\u001b[0;34m(\u001b[0m\u001b[0;34m[\u001b[0m\u001b[0;36m1\u001b[0m\u001b[0;34m,\u001b[0m\u001b[0;36m3\u001b[0m\u001b[0;34m,\u001b[0m\u001b[0;36m5\u001b[0m\u001b[0;34m]\u001b[0m\u001b[0;34m,\u001b[0m\u001b[0;34m[\u001b[0m\u001b[0;36m2\u001b[0m\u001b[0;34m,\u001b[0m\u001b[0;36m4\u001b[0m\u001b[0;34m,\u001b[0m\u001b[0;36m6\u001b[0m\u001b[0;34m]\u001b[0m\u001b[0;34m,\u001b[0m\u001b[0;34m[\u001b[0m\u001b[0;36m9\u001b[0m\u001b[0;34m,\u001b[0m\u001b[0;36m11\u001b[0m\u001b[0;34m,\u001b[0m\u001b[0;36m13\u001b[0m\u001b[0;34m]\u001b[0m\u001b[0;34m,\u001b[0m\u001b[0;34m[\u001b[0m\u001b[0;36m7\u001b[0m\u001b[0;34m,\u001b[0m\u001b[0;36m9\u001b[0m\u001b[0;34m,\u001b[0m\u001b[0;36m6\u001b[0m\u001b[0;34m]\u001b[0m\u001b[0;34m)\u001b[0m\u001b[0;34m\u001b[0m\u001b[0;34m\u001b[0m\u001b[0m\n\u001b[0m\u001b[1;32m     12\u001b[0m     \u001b[0;31m#.array接收多个列表就可以生成多维数组(矩阵)\u001b[0m\u001b[0;34m\u001b[0m\u001b[0;34m\u001b[0m\u001b[0;34m\u001b[0m\u001b[0m\n\u001b[1;32m     13\u001b[0m     \u001b[0mprint\u001b[0m\u001b[0;34m(\u001b[0m\u001b[0mx\u001b[0m\u001b[0;34m)\u001b[0m        \u001b[0;31m#打印数组x\u001b[0m\u001b[0;34m\u001b[0m\u001b[0;34m\u001b[0m\u001b[0m\n",
      "\u001b[0;31mValueError\u001b[0m: only 2 non-keyword arguments accepted"
     ]
    }
   ],
   "source": [
    "import numpy as np  #导入numpy模块\n",
    "def np0():           #numpy数组\n",
    "    x=np.array([1.0,2.0,3.0,5.0])\n",
    "    #array方法接受一个列表，生成数组\n",
    "    y=np.array([5.0,9.0,8,12,])\n",
    "    print(x+y,x-y,x*y,x/y)  #数组之间的算术运算\n",
    "    #注意，数组之间的元素个数相等才可以进行算术运算，\n",
    "    #元素个数不同，程序就会报错\n",
    "\n",
    "def np1():          #numpy生成多维数组\n",
    "    x=np.array([1,3,5],[2,4,6],[9,11,13],[7,9,6])\n",
    "    #.array接收多个列表就可以生成多维数组(矩阵)\n",
    "    print(x)        #打印数组x\n",
    "    print('矩阵x形状',x.shape)  \n",
    "    #.shape方法可以查看矩阵形状\n",
    "    print('矩阵x元素的数据类型',x.dtype)  \n",
    "    #.dtype方法查看矩阵元素的数据类型\n",
    "\n",
    "def np2():          #矩阵的算术运算\n",
    "    x=np.array([1,2,3],[4,5,6],[7,8,9])\n",
    "    y=np.array([5,9,4],[9,16,4],[7,6,15])\n",
    "    #定义矩阵x,y \n",
    "    print('数组的加法',x+y)\n",
    "    print('数组的减法',x-y)\n",
    "    print('数组的乘法',x*y)\n",
    "    print('数组的除法',x/y)\n",
    "    #矩阵的算术运算也可以在相同的矩阵间以对应元素的\n",
    "    #方法进行，\n",
    "    #也可以通过标量（单一数）值对矩阵进行算术运算\n",
    "    #这是基于广播的功能\n",
    "    print('通过标量(单一数值)对矩阵进行算术运算')\n",
    "    print('矩阵x乘以3',x*3)\n",
    "\n",
    "def AND(x1,x2):\n",
    "     w1,w2,theta=0.5,0.5,0.7\n",
    "     tmp1=x1*w1+x2*w2\n",
    "     if tmp1<=theta:\n",
    "         return 0\n",
    "     elif tmp1>theta:\n",
    "         return 1\n",
    "print(AND(0,0))\n",
    "def yum():\n",
    "    x=np.array([0,1])   #输入\n",
    "    w=np.array([0.5,0.5])   #权重\n",
    "\n",
    "a=np0()\n",
    "b=np1()\n",
    "c=np2()\n"
   ]
  }
 ],
 "metadata": {
  "kernelspec": {
   "display_name": "Python 3",
   "language": "python",
   "name": "python3"
  },
  "language_info": {
   "codemirror_mode": {
    "name": "ipython",
    "version": 3
   },
   "file_extension": ".py",
   "mimetype": "text/x-python",
   "name": "python",
   "nbconvert_exporter": "python",
   "pygments_lexer": "ipython3",
   "version": "3.7.3"
  }
 },
 "nbformat": 4,
 "nbformat_minor": 2
}
