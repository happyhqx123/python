{
 "cells": [
  {
   "cell_type": "markdown",
   "metadata": {},
   "source": [
    "# 第一章 numpy常用操作"
   ]
  },
  {
   "cell_type": "markdown",
   "metadata": {},
   "source": [
    "##  第一节：生成ndarray的几种方式"
   ]
  },
  {
   "cell_type": "markdown",
   "metadata": {},
   "source": [
    "## 1.从已有数据创建"
   ]
  },
  {
   "cell_type": "code",
   "execution_count": 1,
   "metadata": {},
   "outputs": [
    {
     "name": "stdout",
     "output_type": "stream",
     "text": [
      "[ 1.     2.     3.     4.     6.     8.     5.     9.    11.    45.\n",
      "  1.25   0.254]\n",
      "<class 'numpy.ndarray'>\n"
     ]
    }
   ],
   "source": [
    "import numpy as np   #导入numpy\n",
    "list1=[1,2,3,4,6,8,5,9,11,45,1.25,0.254]\n",
    "nd1=np.array(list1) #创建ndarray\n",
    "print(nd1)\n",
    "print(type(nd1))"
   ]
  },
  {
   "cell_type": "code",
   "execution_count": 1,
   "metadata": {},
   "outputs": [],
   "source": [
    "## 2 嵌套列表可以转换多维ndarray "
   ]
  },
  {
   "cell_type": "code",
   "execution_count": 2,
   "metadata": {},
   "outputs": [
    {
     "name": "stdout",
     "output_type": "stream",
     "text": [
      "[list([1.0, 2, 3, 5, 7, 9]) list([2, 4]) list([6, 8, 10])]\n",
      "<class 'numpy.ndarray'>\n"
     ]
    }
   ],
   "source": [
    "import numpy as np\n",
    "list2=[[1.0,2,3,5,7,9],[2,4],[6,8,10]]\n",
    "nd2=np.array(list2)\n",
    "print(nd2)\n",
    "print(type(nd2))"
   ]
  },
  {
   "cell_type": "markdown",
   "metadata": {},
   "source": [
    "# 第二节 利用random模块生成ndarray\n",
    "## random有多种函数分别为：\n",
    "\n",
    "## random : 生成0 - 1之间的随机矩阵\n",
    "\n",
    "## uniform : 生成均匀分布随机数\n",
    "\n",
    "## randn   ：根据给定维度生成一个或一组样本，具有标准正态分布\n",
    "\n",
    "## rand      : 根据给定维度生成0-1之间的数据，包含0不包含1\n",
    "\n",
    "## normal  : 生成正态分布\n",
    "\n",
    "## shuffle  : 随机 打乱顺序\n",
    "\n",
    "## seed      : 设置随机数种子"
   ]
  },
  {
   "cell_type": "code",
   "execution_count": 3,
   "metadata": {},
   "outputs": [
    {
     "name": "stdout",
     "output_type": "stream",
     "text": [
      "随机数：\n",
      " [[0.3927166  0.80205797 0.85009778]\n",
      " [0.54327433 0.96391778 0.20146652]\n",
      " [0.93898333 0.34405539 0.12503133]]\n",
      "<class 'numpy.ndarray'>\n",
      "均匀分布随机数：\n",
      " [1.         1.09631829]\n",
      "标准正态随机数：\n",
      " [[-0.35720696  0.95111815 -0.80764804  0.53589443  1.34880793]\n",
      " [ 1.46960957 -0.5437662  -0.06836763  0.68085097  0.60391466]\n",
      " [-0.61105729  1.39444318  1.6790768   0.39328295  1.02038385]\n",
      " [-0.13989587  0.67327485 -0.56000817  0.61108164 -0.26179102]\n",
      " [ 0.46821335  0.18704824  1.05835508 -1.87400868  0.8231638 ]]\n"
     ]
    }
   ],
   "source": [
    "# import numpy as np\n",
    "nd5= np.random.random([3,3])  #生成0-1之间的随机数\n",
    "print('随机数：\\n',nd5)\n",
    "print(type(nd5))\n",
    "nd6=np.random.uniform([1,3])\n",
    "print('均匀分布随机数：\\n',nd6)\n",
    "nd7=np.random.randn(5,5)\n",
    "print('标准正态随机数：\\n',nd7)\n",
    "\n"
   ]
  }
 ],
 "metadata": {
  "kernelspec": {
   "display_name": "Python 3",
   "language": "python",
   "name": "python3"
  },
  "language_info": {
   "codemirror_mode": {
    "name": "ipython",
    "version": 3
   },
   "file_extension": ".py",
   "mimetype": "text/x-python",
   "name": "python",
   "nbconvert_exporter": "python",
   "pygments_lexer": "ipython3",
   "version": "3.6.5"
  }
 },
 "nbformat": 4,
 "nbformat_minor": 2
}
