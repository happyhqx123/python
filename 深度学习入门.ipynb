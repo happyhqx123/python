{
 "cells": [
  {
   "cell_type": "code",
   "execution_count": 3,
   "metadata": {},
   "outputs": [
    {
     "name": "stdout",
     "output_type": "stream",
     "text": [
      "0\n",
      "[ 6. 11. 11. 17.] [-4. -7. -5. -7.] [ 5. 18. 24. 60.] [0.2        0.22222222 0.375      0.41666667]\n",
      "[[ 1  3  5]\n",
      " [ 2  4  6]\n",
      " [ 9 11 13]\n",
      " [ 7  9  6]]\n",
      "矩阵x形状 (4, 3)\n",
      "矩阵x元素的数据类型 int64\n",
      "数组的加法 [[ 6 11  7]\n",
      " [13 21 10]\n",
      " [14 14 24]]\n",
      "数组的减法 [[ -4  -7  -1]\n",
      " [ -5 -11   2]\n",
      " [  0   2  -6]]\n",
      "数组的乘法 [[  5  18  12]\n",
      " [ 36  80  24]\n",
      " [ 49  48 135]]\n",
      "数组的除法 [[0.2        0.22222222 0.75      ]\n",
      " [0.44444444 0.3125     1.5       ]\n",
      " [1.         1.33333333 0.6       ]]\n",
      "通过标量(单一数值)对矩阵进行算术运算\n",
      "矩阵x乘以3 [[ 3  6  9]\n",
      " [12 15 18]\n",
      " [21 24 27]]\n"
     ]
    }
   ],
   "source": [
    "import numpy as np  #导入numpy模块\n",
    "def np0():           #numpy数组\n",
    "    x=np.array([1.0,2.0,3.0,5.0])\n",
    "    #array方法接受一个列表，生成数组\n",
    "    y=np.array([5.0,9.0,8,12,])\n",
    "    print(x+y,x-y,x*y,x/y)  #数组之间的算术运算\n",
    "    #注意，数组之间的元素个数相等才可以进行算术运算，\n",
    "    #元素个数不同，程序就会报错\n",
    "\n",
    "def np1():          #numpy生成多维数组\n",
    "    x=np.array([[1,3,5],[2,4,6],[9,11,13],[7,9,6]])\n",
    "    #.array接收多个列表就可以生成多维数组(矩阵)\n",
    "    print(x)        #打印数组x\n",
    "    print('矩阵x形状',x.shape)  \n",
    "    #.shape方法可以查看矩阵形状\n",
    "    print('矩阵x元素的数据类型',x.dtype)  \n",
    "    #.dtype方法查看矩阵元素的数据类型\n",
    "\n",
    "def np2():          #矩阵的算术运算\n",
    "    x=np.array([[1,2,3],[4,5,6],[7,8,9]])\n",
    "    y=np.array([[5,9,4],[9,16,4],[7,6,15]])\n",
    "    #定义矩阵x,y \n",
    "    print('数组的加法',x+y)\n",
    "    print('数组的减法',x-y)\n",
    "    print('数组的乘法',x*y)\n",
    "    print('数组的除法',x/y)\n",
    "    #矩阵的算术运算也可以在相同的矩阵间以对应元素的\n",
    "    #方法进行，\n",
    "    #也可以通过标量（单一数）值对矩阵进行算术运算\n",
    "    #这是基于广播的功能\n",
    "    print('通过标量(单一数值)对矩阵进行算术运算')\n",
    "    print('矩阵x乘以3',x*3)\n",
    "\n",
    "def AND(x1,x2):\n",
    "     w1,w2,theta=0.5,0.5,0.7\n",
    "     tmp1=x1*w1+x2*w2\n",
    "     if tmp1<=theta:\n",
    "         return 0\n",
    "     elif tmp1>theta:\n",
    "         return 1\n",
    "print(AND(0,0))\n",
    "def yum():\n",
    "    x=np.array([0,1])   #输入\n",
    "    w=np.array([0.5,0.5])   #权重\n",
    "\n",
    "a=np0()\n",
    "b=np1()\n",
    "c=np2()\n"
   ]
  },
  {
   "cell_type": "code",
   "execution_count": 6,
   "metadata": {},
   "outputs": [
    {
     "name": "stdout",
     "output_type": "stream",
     "text": [
      "5\n",
      "1 2 3 5 6\n"
     ]
    }
   ],
   "source": [
    "#python向量操作\n",
    "import numpy as np\n",
    "a=np.array([1,2,3,5,6])\n",
    "print(a.size) #显示向量A的元素个数\n",
    "print(a[0,],a[1],a[2],a[3],a[4])"
   ]
  },
  {
   "cell_type": "code",
   "execution_count": 7,
   "metadata": {},
   "outputs": [
    {
     "name": "stdout",
     "output_type": "stream",
     "text": [
      "[[1 2 3]\n",
      " [4 5 6]]\n",
      "6\n",
      "(2, 3)\n",
      "2 3 5\n",
      "[1 2 3]\n"
     ]
    }
   ],
   "source": [
    "#python矩阵操作\n",
    "import numpy as np\n",
    "A=np.array([[1,2,3],[4,5,6]])\n",
    "print(A)\n",
    "print(A.size) #显示矩阵总元素个数\n",
    "print(A.shape) #显示矩阵行数和列数\n",
    "print(A[0,1],A[0,2],A[1,1])\n",
    "print(A[0,:]) #打印矩阵第二行"
   ]
  }
 ],
 "metadata": {
  "kernelspec": {
   "display_name": "Python 3",
   "language": "python",
   "name": "python3"
  },
  "language_info": {
   "codemirror_mode": {
    "name": "ipython",
    "version": 3
   },
   "file_extension": ".py",
   "mimetype": "text/x-python",
   "name": "python",
   "nbconvert_exporter": "python",
   "pygments_lexer": "ipython3",
   "version": "3.7.3"
  }
 },
 "nbformat": 4,
 "nbformat_minor": 2
}
